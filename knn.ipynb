{
 "cells": [
  {
   "cell_type": "code",
   "execution_count": 83,
   "id": "7b1b2f22",
   "metadata": {},
   "outputs": [],
   "source": [
    "import pandas as pd\n",
    "import numpy as np\n",
    "from sklearn.model_selection import train_test_split\n",
    "import matplotlib.pyplot as plt"
   ]
  },
  {
   "cell_type": "code",
   "execution_count": 84,
   "id": "db22aa56",
   "metadata": {},
   "outputs": [],
   "source": [
    "np.random.seed(42)"
   ]
  },
  {
   "cell_type": "code",
   "execution_count": 85,
   "id": "35405189",
   "metadata": {},
   "outputs": [],
   "source": [
    "def knn(newObservation, referenceData, k=3):\n",
    "    data = referenceData.iloc[:, :-1]\n",
    "    labels = referenceData.iloc[:, -1]   \n",
    "    \n",
    "    # Gets euclidian distance between new data pt and pts in dataset\n",
    "    rows = data.shape[0]\n",
    "    cols = data.columns.size\n",
    "    distances = np.empty((rows, cols))\n",
    "    \n",
    "    for i in range(rows):\n",
    "        sum = 0\n",
    "        for j in range(cols):\n",
    "            sum += np.square(data.iloc[i, j] - newObservation[j])\n",
    "        distance = np.sqrt(sum)\n",
    "        \n",
    "        # 1st column is distance & 2nd column is class label\n",
    "        distances[i, 0] = distance\n",
    "        distances[i, 1] = labels.iloc[i]\n",
    "        \n",
    "    # Sorts distances by value (least -> greatest)\n",
    "    distances = distances[np.argsort(distances[:, 0])]\n",
    "    \n",
    "    # Gets k closest neighbors and tracks number of occurances of each class\n",
    "    num_classes = max(distances[:, 1]) + 1\n",
    "    classes = [0] * int(num_classes)\n",
    "    for i in range(k):\n",
    "        class_num = int(distances[i, 1])\n",
    "        classes[class_num] = int(classes[class_num])+1\n",
    "        \n",
    "    # Returns class number with most occurances\n",
    "    class_count = max(classes)\n",
    "    class_index = classes.index(class_count)\n",
    "    return class_index"
   ]
  },
  {
   "cell_type": "code",
   "execution_count": 86,
   "id": "2b177e88",
   "metadata": {},
   "outputs": [],
   "source": [
    "def run_tests(x_test, y_test, train_df, k=3):\n",
    "    size = x_test.shape[0]\n",
    "    correct_preds = 0\n",
    "    results = [0] * size\n",
    "    \n",
    "    for i in range(size):\n",
    "        result = knn(x_test[i], train_df, k)\n",
    "        if result == int(y_test[i]):\n",
    "            correct_preds+=1\n",
    "        results[i] = result\n",
    "        \n",
    "    accuracy_rate = correct_preds/size\n",
    "    print('Prediction accuracy (using test set) ' + str((correct_preds/size))) \n",
    "    return results"
   ]
  },
  {
   "cell_type": "code",
   "execution_count": 87,
   "id": "18010f53",
   "metadata": {},
   "outputs": [],
   "source": [
    "#Generate n synthetic samples (not a real dataset, randomly generated)\n",
    "\n",
    "n=100 #data pts\n",
    "\n",
    "#Class 0\n",
    "X1 = np.random.normal(loc=-2.0, scale=2, size=int(n/2))\n",
    "Y1 = np.random.normal(loc=0, scale=1, size=int(n/2))\n",
    "#Class 1\n",
    "X2 = np.random.normal(loc=2.0, scale=2.0, size=int(n/2))\n",
    "Y2 = np.random.normal(loc=0, scale=1.0, size=int(n/2))"
   ]
  },
  {
   "cell_type": "code",
   "execution_count": 88,
   "id": "4455c48c",
   "metadata": {},
   "outputs": [],
   "source": [
    "# Adds class labels to dataset\n",
    "ds = np.empty([n, 3])\n",
    "size = int(n/2)\n",
    "for i in range(size):\n",
    "        ds[i] = [X1[i], Y1[i], 0]\n",
    "        ds[i+size] = [X2[i], Y2[i], 1]"
   ]
  },
  {
   "cell_type": "code",
   "execution_count": 89,
   "id": "62d5617d",
   "metadata": {},
   "outputs": [],
   "source": [
    "# Create dataframe and separate training set\n",
    "x_train, x_test, y_train, y_test = train_test_split(ds[:, :-1], ds[:, -1], test_size=0.2, random_state=0)\n",
    "train_df = pd.DataFrame({'X1':x_train[:,0], 'X2':x_train[:,1], 'Y':y_train}, columns=['X1', 'X2', 'Y'])"
   ]
  },
  {
   "cell_type": "code",
   "execution_count": 90,
   "id": "ab03b99f",
   "metadata": {},
   "outputs": [
    {
     "name": "stdout",
     "output_type": "stream",
     "text": [
      "Prediction accuracy (using test set) 0.9\n"
     ]
    }
   ],
   "source": [
    "results = run_tests(x_test, y_test, train_df)"
   ]
  },
  {
   "cell_type": "code",
   "execution_count": 91,
   "id": "2fd1b955",
   "metadata": {},
   "outputs": [
    {
     "data": {
      "text/plain": [
       "Text(0.5, 1.0, 'Actual labels')"
      ]
     },
     "execution_count": 91,
     "metadata": {},
     "output_type": "execute_result"
    },
    {
     "data": {
      "image/png": "[encoded data removed]",
      "text/plain": [
       "<Figure size 432x288 with 1 Axes>"
      ]
     },
     "metadata": {
      "needs_background": "light"
     },
     "output_type": "display_data"
    }
   ],
   "source": [
    "plt.subplot(1, 2, 1)\n",
    "plt.scatter(x_train[:,0], x_train[:, 1], s=25, c=y_train, marker='.')\n",
    "plt.scatter(x_test[:,0],x_test[:,1], s=50, c=y_test, marker=\"v\")\n",
    "plt.title('Actual labels')"
   ]
  },
  {
   "cell_type": "code",
   "execution_count": 92,
   "id": "a06ef598",
   "metadata": {
    "scrolled": true
   },
   "outputs": [
    {
     "data": {
      "text/plain": [
       "Text(0.5, 1.0, 'Predicted labels')"
      ]
     },
     "execution_count": 92,
     "metadata": {},
     "output_type": "execute_result"
    },
    {
     "data": {
      "image/png": "[encoded data removed]",
      "text/plain": [
       "<Figure size 432x288 with 1 Axes>"
      ]
     },
     "metadata": {
      "needs_background": "light"
     },
     "output_type": "display_data"
    }
   ],
   "source": [
    "plt.subplot(1, 2, 2)\n",
    "plt.scatter(x_train[:,0], x_train[:, 1], s=25, c=y_train, marker='.')\n",
    "plt.scatter(x_test[:,0],x_test[:,1], s=50, c=results, marker=\"v\")\n",
    "plt.title('Predicted labels')\n"
   ]
  },
  {
   "cell_type": "code",
   "execution_count": 93,
   "id": "87def1d2",
   "metadata": {},
   "outputs": [],
   "source": [
    "#Generate n synthetic samples (not a real dataset, randomly generated)\n",
    "\n",
    "n=1000 #data pts\n",
    "\n",
    "#Class 0\n",
    "X1 = np.random.normal(loc=0, scale=3, size=int(n/4))\n",
    "Y1 = np.random.normal(loc=-3, scale=1, size=int(n/4))\n",
    "Z1 = np.random.normal(loc=-1, scale=1, size=(int(n/4)))\n",
    "#Class 1\n",
    "X2 = np.random.normal(loc=0, scale=3, size=int(n/4))\n",
    "Y2 = np.random.normal(loc=1, scale=2, size=int(n/4))\n",
    "Z2 = np.random.normal(loc=1, scale=1, size=(int(n/4)))\n",
    "#Class 2\n",
    "X3 = np.random.normal(loc=0, scale=3, size=int(n/4))\n",
    "Y3 = np.random.normal(loc=3, scale=1, size=int(n/4))\n",
    "Z3 = np.random.normal(loc=4, scale=1, size=(int(n/4)))\n",
    "#Class 3\n",
    "X4 = np.random.normal(loc=0, scale=3, size=int(n/4))\n",
    "Y4 = np.random.normal(loc=5, scale=3, size=int(n/4))\n",
    "Z4 = np.random.normal(loc=-3, scale=1, size=(int(n/4)))\n"
   ]
  },
  {
   "cell_type": "code",
   "execution_count": 94,
   "id": "284e9d84",
   "metadata": {},
   "outputs": [],
   "source": [
    "# Adds class labels to dataset\n",
    "ds2 = np.empty([n, 4])\n",
    "size = int(n/4)\n",
    "for i in range(size):\n",
    "        ds2[i] = [X1[i], Y1[i], Z1[i], 0]\n",
    "        ds2[i+size] = [X2[i], Y2[i], Z2[i], 1]\n",
    "        ds2[i+int(size*2)] = [X3[i], Y3[i], Z3[i], 2]\n",
    "        ds2[i+int(size*3)] = [X4[i], Y4[i], Z4[i], 3]\n",
    "\n"
   ]
  },
  {
   "cell_type": "code",
   "execution_count": 95,
   "id": "279ecd86",
   "metadata": {},
   "outputs": [],
   "source": [
    "# Create dataframe and separate training set\n",
    "x_train, x_test, y_train, y_test = train_test_split(ds2[:, :-1], ds2[:, -1], test_size=.2, random_state=0)\n",
    "train_df2 = pd.DataFrame({'X1':x_train[:,0], 'X2':x_train[:,1], 'X3':x_train[:,2], 'Y':y_train}, columns=['X1', 'X2', 'X3', 'Y'])"
   ]
  },
  {
   "cell_type": "code",
   "execution_count": 96,
   "id": "8c003a9c",
   "metadata": {},
   "outputs": [
    {
     "name": "stdout",
     "output_type": "stream",
     "text": [
      "Prediction accuracy (using test set) 0.915\n"
     ]
    }
   ],
   "source": [
    "results = run_tests(x_test, y_test, train_df2)"
   ]
  },
  {
   "cell_type": "code",
   "execution_count": null,
   "id": "69732b73",
   "metadata": {},
   "outputs": [],
   "source": []
  }
 ],
 "metadata": {
  "kernelspec": {
   "display_name": "Python 3",
   "language": "python",
   "name": "python3"
  },
  "language_info": {
   "codemirror_mode": {
    "name": "ipython",
    "version": 3
   },
   "file_extension": ".py",
   "mimetype": "text/x-python",
   "name": "python",
   "nbconvert_exporter": "python",
   "pygments_lexer": "ipython3",
   "version": "3.8.8"
  }
 },
 "nbformat": 4,
 "nbformat_minor": 5
}
