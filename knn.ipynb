{
 "cells": [
  {
   "cell_type": "code",
   "execution_count": 52,
   "id": "7b1b2f22",
   "metadata": {},
   "outputs": [],
   "source": [
    "import pandas as pd\n",
    "import numpy as np\n",
    "from sklearn.model_selection import train_test_split"
   ]
  },
  {
   "cell_type": "code",
   "execution_count": 53,
   "id": "db22aa56",
   "metadata": {},
   "outputs": [],
   "source": [
    "np.random.seed(42)"
   ]
  },
  {
   "cell_type": "code",
   "execution_count": 54,
   "id": "74aaa0f2",
   "metadata": {},
   "outputs": [],
   "source": [
    "x_train, x_test, y_train, y_test = train_test_split(df.iloc[:, 0], df.iloc[:, 1], test_size=.2, random_state=0)"
   ]
  },
  {
   "cell_type": "code",
   "execution_count": 55,
   "id": "18010f53",
   "metadata": {},
   "outputs": [
    {
     "name": "stdout",
     "output_type": "stream",
     "text": [
      "[-1.00657169 -2.2765286  -0.70462292  1.04605971 -2.46830675 -2.46827391\n",
      "  1.15842563 -0.46513054 -2.93894877 -0.91487991 -2.92683539 -2.93145951\n",
      " -1.51607546 -5.82656049 -5.44983567 -3.12457506 -4.02566224 -1.37150533\n",
      " -3.81604815 -4.8246074   0.93129754 -2.4515526  -1.86494359 -4.84949637\n",
      " -3.08876545 -1.77815482 -4.30198715 -1.24860396 -3.20127738 -2.5833875\n",
      " -3.20341322  1.70455637 -2.02699445 -4.11542186 -0.35491018 -4.4416873\n",
      " -1.58227281 -5.91934025 -4.6563721  -1.60627753 -0.52306684 -1.65726344\n",
      " -2.23129656 -2.60220739 -4.95704398 -3.43968842 -2.92127754  0.11424445\n",
      " -1.31276342 -5.52608031]\n",
      "[ 0.32408397 -0.38508228 -0.676922    0.61167629  1.03099952  0.93128012\n",
      " -0.83921752 -0.30921238  0.33126343  0.97554513 -0.47917424 -0.18565898\n",
      " -1.10633497 -1.19620662  0.81252582  1.35624003 -0.07201012  1.0035329\n",
      "  0.36163603 -0.64511975  0.36139561  1.53803657 -0.03582604  1.56464366\n",
      " -2.6197451   0.8219025   0.08704707 -0.29900735  0.09176078 -1.98756891\n",
      " -0.21967189  0.35711257  1.47789404 -0.51827022 -0.8084936  -0.50175704\n",
      "  0.91540212  0.32875111 -0.5297602   0.51326743  0.09707755  0.96864499\n",
      " -0.70205309 -0.32766215 -0.39210815 -1.46351495  0.29612028  0.26105527\n",
      "  0.00511346 -0.23458713]\n"
     ]
    }
   ],
   "source": [
    "#Generate n synthetic samples (not a real dataset, randomly generated)\n",
    "n=100\n",
    "\n",
    "#Class 0\n",
    "X1 = np.random.normal(loc=-2.0, scale=2, size=int(n/2))\n",
    "Y1 = np.random.normal(loc=0, scale=1, size=int(n/2))\n",
    "print(X1)\n",
    "print(Y1)\n",
    "\n",
    "#Class 1\n",
    "X2 = np.random.normal(loc=2.0, scale=2.0, size=int(n/2))\n",
    "Y2 = np.random.normal(loc=0, scale=1.0, size=int(n/2))"
   ]
  },
  {
   "cell_type": "code",
   "execution_count": 63,
   "id": "a49d926c",
   "metadata": {},
   "outputs": [
    {
     "ename": "IndexError",
     "evalue": "index 50 is out of bounds for axis 0 with size 50",
     "output_type": "error",
     "traceback": [
      "\u001b[1;31m---------------------------------------------------------------------------\u001b[0m",
      "\u001b[1;31mIndexError\u001b[0m                                Traceback (most recent call last)",
      "\u001b[1;32m<ipython-input-63-199c8ccadcae>\u001b[0m in \u001b[0;36m<module>\u001b[1;34m\u001b[0m\n\u001b[0;32m      5\u001b[0m \u001b[1;32mfor\u001b[0m \u001b[0mi\u001b[0m \u001b[1;32min\u001b[0m \u001b[0mrange\u001b[0m\u001b[1;33m(\u001b[0m\u001b[0msize\u001b[0m\u001b[1;33m)\u001b[0m\u001b[1;33m:\u001b[0m\u001b[1;33m\u001b[0m\u001b[1;33m\u001b[0m\u001b[0m\n\u001b[0;32m      6\u001b[0m         \u001b[0marr\u001b[0m\u001b[1;33m[\u001b[0m\u001b[0mi\u001b[0m\u001b[1;33m]\u001b[0m \u001b[1;33m=\u001b[0m \u001b[1;33m[\u001b[0m\u001b[0mX1\u001b[0m\u001b[1;33m[\u001b[0m\u001b[0mi\u001b[0m\u001b[1;33m]\u001b[0m\u001b[1;33m,\u001b[0m \u001b[0mY1\u001b[0m\u001b[1;33m[\u001b[0m\u001b[0mi\u001b[0m\u001b[1;33m]\u001b[0m\u001b[1;33m,\u001b[0m \u001b[1;36m0\u001b[0m\u001b[1;33m]\u001b[0m\u001b[1;33m\u001b[0m\u001b[1;33m\u001b[0m\u001b[0m\n\u001b[1;32m----> 7\u001b[1;33m         \u001b[0marr\u001b[0m\u001b[1;33m[\u001b[0m\u001b[0mi\u001b[0m\u001b[1;33m+\u001b[0m\u001b[0msize\u001b[0m\u001b[1;33m]\u001b[0m \u001b[1;33m=\u001b[0m \u001b[1;33m[\u001b[0m\u001b[0mX2\u001b[0m\u001b[1;33m[\u001b[0m\u001b[0mi\u001b[0m\u001b[1;33m+\u001b[0m\u001b[0msize\u001b[0m\u001b[1;33m]\u001b[0m\u001b[1;33m,\u001b[0m \u001b[1;36m1\u001b[0m\u001b[1;33m]\u001b[0m\u001b[1;33m\u001b[0m\u001b[1;33m\u001b[0m\u001b[0m\n\u001b[0m",
      "\u001b[1;31mIndexError\u001b[0m: index 50 is out of bounds for axis 0 with size 50"
     ]
    }
   ],
   "source": [
    "arr = np.empty([n, 3])\n",
    "\n",
    "size = int(n/2)\n",
    "\n",
    "for i in range(size):\n",
    "        arr[i] = [X1[i], Y1[i], 0]\n",
    "        arr[i+size] = [X2[i], Y2[i+size] 1]\n"
   ]
  },
  {
   "cell_type": "code",
   "execution_count": null,
   "id": "cbac712f",
   "metadata": {},
   "outputs": [],
   "source": []
  },
  {
   "cell_type": "code",
   "execution_count": null,
   "id": "e45f8b27",
   "metadata": {},
   "outputs": [],
   "source": []
  }
 ],
 "metadata": {
  "kernelspec": {
   "display_name": "Python 3",
   "language": "python",
   "name": "python3"
  },
  "language_info": {
   "codemirror_mode": {
    "name": "ipython",
    "version": 3
   },
   "file_extension": ".py",
   "mimetype": "text/x-python",
   "name": "python",
   "nbconvert_exporter": "python",
   "pygments_lexer": "ipython3",
   "version": "3.8.8"
  }
 },
 "nbformat": 4,
 "nbformat_minor": 5
}
