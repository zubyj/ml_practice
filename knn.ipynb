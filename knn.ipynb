{
 "cells": [
  {
   "cell_type": "code",
   "execution_count": 215,
   "id": "7b1b2f22",
   "metadata": {},
   "outputs": [],
   "source": [
    "import pandas as pd\n",
    "import numpy as np\n",
    "from sklearn.model_selection import train_test_split"
   ]
  },
  {
   "cell_type": "code",
   "execution_count": 216,
   "id": "db22aa56",
   "metadata": {},
   "outputs": [],
   "source": [
    "np.random.seed(42)"
   ]
  },
  {
   "cell_type": "code",
   "execution_count": 283,
   "id": "c021de65",
   "metadata": {},
   "outputs": [],
   "source": [
    "#Generate synthetic samples (not a real dataset, randomly generated)\n",
    "n=100\n",
    "X1 = np.random.normal(loc=-2.0, scale=2, size=int(n/2))\n",
    "X1_labels = np.full((1, int(n/2)), 'Dim1').flatten()\n",
    "\n",
    "X2 = np.random.normal(loc=0, scale=1, size=int(n/2))\n",
    "X2_labels = np.full((1, int(n/2)), 'Dim2').flatten()\n",
    "\n",
    "labels = np.concatenate((X1_labels, X2_labels), axis=0)\n",
    "X = np.concatenate((X1, X2), axis=0)"
   ]
  },
  {
   "cell_type": "code",
   "execution_count": 287,
   "id": "941cf87f",
   "metadata": {},
   "outputs": [
    {
     "name": "stdout",
     "output_type": "stream",
     "text": [
      "           X     Y\n",
      "0  -1.339772  Dim1\n",
      "1  -3.628021  Dim1\n",
      "2  -2.731354  Dim1\n",
      "3  -0.991459  Dim1\n",
      "4  -0.957101  Dim1\n",
      "..       ...   ...\n",
      "95  0.381426  Dim2\n",
      "96  0.997266  Dim2\n",
      "97  1.181890  Dim2\n",
      "98 -0.066449  Dim2\n",
      "99 -0.358079  Dim2\n",
      "\n",
      "[100 rows x 2 columns]\n",
      "0    -1.339772\n",
      "1    -3.628021\n",
      "2    -2.731354\n",
      "3    -0.991459\n",
      "4    -0.957101\n",
      "        ...   \n",
      "95    0.381426\n",
      "96    0.997266\n",
      "97    1.181890\n",
      "98   -0.066449\n",
      "99   -0.358079\n",
      "Name: X, Length: 100, dtype: float64\n"
     ]
    }
   ],
   "source": [
    "#Create dataframe with labels/classification as last column\n",
    "df = pd.DataFrame({'X':X, 'Y':labels})\n",
    "print(df)\n",
    "print(df.iloc[:, 0])\n"
   ]
  },
  {
   "cell_type": "code",
   "execution_count": 288,
   "id": "74aaa0f2",
   "metadata": {},
   "outputs": [],
   "source": [
    "x_train, x_test, y_train, y_test = train_test_split(df.iloc[:, 0], df.iloc[:, 1], test_size=.2, random_state=0)"
   ]
  },
  {
   "cell_type": "code",
   "execution_count": null,
   "id": "18010f53",
   "metadata": {},
   "outputs": [],
   "source": [
    "def knn(newObservation, referenceData, k=3):\n",
    "    "
   ]
  }
 ],
 "metadata": {
  "kernelspec": {
   "display_name": "Python 3",
   "language": "python",
   "name": "python3"
  },
  "language_info": {
   "codemirror_mode": {
    "name": "ipython",
    "version": 3
   },
   "file_extension": ".py",
   "mimetype": "text/x-python",
   "name": "python",
   "nbconvert_exporter": "python",
   "pygments_lexer": "ipython3",
   "version": "3.8.8"
  }
 },
 "nbformat": 4,
 "nbformat_minor": 5
}
