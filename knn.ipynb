{
 "cells": [
  {
   "cell_type": "code",
   "execution_count": 338,
   "id": "7b1b2f22",
   "metadata": {},
   "outputs": [],
   "source": [
    "import pandas as pd\n",
    "import numpy as np\n",
    "from sklearn.model_selection import train_test_split"
   ]
  },
  {
   "cell_type": "code",
   "execution_count": 339,
   "id": "db22aa56",
   "metadata": {},
   "outputs": [],
   "source": [
    "np.random.seed(42)"
   ]
  },
  {
   "cell_type": "code",
   "execution_count": 340,
   "id": "18010f53",
   "metadata": {},
   "outputs": [],
   "source": [
    "#Generate n synthetic samples (not a real dataset, randomly generated)\n",
    "\n",
    "n=100\n",
    "#Class 0\n",
    "X1 = np.random.normal(loc=-2.0, scale=2, size=int(n/2))\n",
    "Y1 = np.random.normal(loc=0, scale=1, size=int(n/2))\n",
    "#Class 1\n",
    "X2 = np.random.normal(loc=2.0, scale=2.0, size=int(n/2))\n",
    "Y2 = np.random.normal(loc=0, scale=1.0, size=int(n/2))"
   ]
  },
  {
   "cell_type": "code",
   "execution_count": 341,
   "id": "4455c48c",
   "metadata": {},
   "outputs": [],
   "source": [
    "# Columns are features (dims) and class labels are the last column\n",
    "ds1 = np.empty([n, 3])\n",
    "size = int(n/2)\n",
    "for i in range(size):\n",
    "        ds1[i] = [X1[i], Y1[i], 0]\n",
    "        ds1[i+size] = [X2[i], Y2[i], 1]"
   ]
  },
  {
   "cell_type": "code",
   "execution_count": 342,
   "id": "62d5617d",
   "metadata": {},
   "outputs": [
    {
     "name": "stdout",
     "output_type": "stream",
     "text": [
      "       Dim 1     Dim 2  Class labels\n",
      "0  -1.006572  0.324084           0.0\n",
      "1  -2.276529 -0.385082           0.0\n",
      "2  -0.704623 -0.676922           0.0\n",
      "3   1.046060  0.611676           0.0\n",
      "4  -2.468307  1.031000           0.0\n",
      "..       ...       ...           ...\n",
      "95  3.563646  0.385317           1.0\n",
      "96 -0.473901 -0.883857           1.0\n",
      "97 -0.640913  0.153725           1.0\n",
      "98  3.043883  0.058209           1.0\n",
      "99  2.593969 -1.142970           1.0\n",
      "\n",
      "[100 rows x 3 columns]\n"
     ]
    }
   ],
   "source": [
    "df = pd.DataFrame({'Dim 1':ds1[:, 0], 'Dim 2':ds1[:, 1], 'Class labels':ds1[:, -1]})\n",
    "print(df)"
   ]
  },
  {
   "cell_type": "code",
   "execution_count": 343,
   "id": "b937b339",
   "metadata": {},
   "outputs": [],
   "source": [
    "x_train, x_test, y_train, y_test = train_test_split(df.iloc[:, :-1], df.iloc[:, -1], test_size=0.2, random_state=0)"
   ]
  },
  {
   "cell_type": "code",
   "execution_count": 378,
   "id": "29891519",
   "metadata": {},
   "outputs": [
    {
     "name": "stdout",
     "output_type": "stream",
     "text": [
      "0.0\n"
     ]
    }
   ],
   "source": [
    "train_df = pd.DataFrame({'X1':x_train.iloc[:,0], 'X2':x_train.iloc[:,1], 'Y':y_train}, columns=['X1', 'X2', 'Y'])\n",
    "\n",
    "c_labels = train_df.iloc[:, -1]\n",
    "print(c_labels.iloc[i])"
   ]
  },
  {
   "cell_type": "code",
   "execution_count": 389,
   "id": "72ae17e5",
   "metadata": {},
   "outputs": [],
   "source": [
    "def knn(newObservation, referenceData, k=3):\n",
    "    data = referenceData.iloc[:, :-1]\n",
    "    labels = referenceData.iloc[:, -1]    \n",
    "    size = data.shape[0]\n",
    "    \n",
    "    # List of distances between new data pt and dataset pts\n",
    "    distance = np.array((None, None) * int(size/2))\n",
    "    \n",
    "    for i in range(size):\n",
    "        x_diff = np.square(data.iloc[i, 0] - newObservation[0])\n",
    "        y_diff = np.square(data.iloc[i, 1] - newObservation[1])\n",
    "        distance[i] = ((np.sqrt(x_diff + y_diff)), labels.iloc[i])\n",
    "        \n",
    "    distance = np.sort(distance, axis=0)\n",
    "    \n",
    "    c0_count = 0\n",
    "    c1_count = 0\n",
    "    \n",
    "    for i in range(0, k):\n",
    "        if distance[i][1] == 0:\n",
    "            c0_count+=1\n",
    "        elif distance[i][1] == 1:\n",
    "            c1_count+=1\n",
    "    \n",
    "    if c0_count > c1_count:\n",
    "        return 'Class 0'\n",
    "    return 'Class 1'"
   ]
  },
  {
   "cell_type": "code",
   "execution_count": 397,
   "id": "e96545bf",
   "metadata": {},
   "outputs": [
    {
     "name": "stdout",
     "output_type": "stream",
     "text": [
      "[-4.30198715  0.08704707]\n",
      "Class 0\n",
      "[0.43349342 0.47323762]\n",
      "Class 0\n",
      "[-0.70462292 -0.676922  ]\n",
      "Class 0\n",
      "[ 2.80810171 -0.71435142]\n",
      "Class 1\n",
      "[6.38091125 0.82718325]\n",
      "Class 1\n",
      "[ 2.36926772 -1.24573878]\n",
      "Class 1\n",
      "[-4.02566224 -0.07201012]\n",
      "Class 0\n",
      "[-0.80370213  0.34115197]\n",
      "Class 1\n",
      "[1.67742858 0.29307247]\n",
      "Class 1\n",
      "[3.56364574 0.38531738]\n",
      "Class 1\n",
      "[0.39544546 0.2322537 ]\n",
      "Class 1\n",
      "[-1.21496647  0.21409374]\n",
      "Class 0\n",
      "[ 2.19930273 -0.26465683]\n",
      "Class 1\n",
      "[-5.82656049 -1.19620662]\n",
      "Class 0\n",
      "[-0.46513054 -0.30921238]\n",
      "Class 0\n",
      "[-3.20341322 -0.21967189]\n",
      "Class 0\n",
      "[-1.86494359 -0.03582604]\n",
      "Class 0\n",
      "[-3.08876545 -2.6197451 ]\n",
      "Class 0\n",
      "[-4.11542186 -0.51827022]\n",
      "Class 0\n",
      "[-2.93894877  0.33126343]\n",
      "Class 0\n"
     ]
    },
    {
     "ename": "IndexError",
     "evalue": "single positional indexer is out-of-bounds",
     "output_type": "error",
     "traceback": [
      "\u001b[1;31m---------------------------------------------------------------------------\u001b[0m",
      "\u001b[1;31mIndexError\u001b[0m                                Traceback (most recent call last)",
      "\u001b[1;32m<ipython-input-397-aca9551cb137>\u001b[0m in \u001b[0;36m<module>\u001b[1;34m\u001b[0m\n\u001b[0;32m      1\u001b[0m \u001b[1;32mfor\u001b[0m \u001b[0mi\u001b[0m \u001b[1;32min\u001b[0m \u001b[0mrange\u001b[0m\u001b[1;33m(\u001b[0m\u001b[0mtrain_df\u001b[0m\u001b[1;33m.\u001b[0m\u001b[0mshape\u001b[0m\u001b[1;33m[\u001b[0m\u001b[1;36m0\u001b[0m\u001b[1;33m]\u001b[0m\u001b[1;33m)\u001b[0m\u001b[1;33m:\u001b[0m\u001b[1;33m\u001b[0m\u001b[1;33m\u001b[0m\u001b[0m\n\u001b[1;32m----> 2\u001b[1;33m     \u001b[0mresult\u001b[0m \u001b[1;33m=\u001b[0m \u001b[0mknn\u001b[0m\u001b[1;33m(\u001b[0m\u001b[0mx_test\u001b[0m\u001b[1;33m.\u001b[0m\u001b[0miloc\u001b[0m\u001b[1;33m[\u001b[0m\u001b[0mi\u001b[0m\u001b[1;33m]\u001b[0m\u001b[1;33m,\u001b[0m \u001b[0mtrain_df\u001b[0m\u001b[1;33m,\u001b[0m \u001b[0mk\u001b[0m\u001b[1;33m=\u001b[0m\u001b[1;36m3\u001b[0m\u001b[1;33m)\u001b[0m\u001b[1;33m\u001b[0m\u001b[1;33m\u001b[0m\u001b[0m\n\u001b[0m\u001b[0;32m      3\u001b[0m     \u001b[0mprint\u001b[0m\u001b[1;33m(\u001b[0m\u001b[0mx_test\u001b[0m\u001b[1;33m.\u001b[0m\u001b[0miloc\u001b[0m\u001b[1;33m[\u001b[0m\u001b[0mi\u001b[0m\u001b[1;33m]\u001b[0m\u001b[1;33m.\u001b[0m\u001b[0mvalues\u001b[0m\u001b[1;33m)\u001b[0m\u001b[1;33m\u001b[0m\u001b[1;33m\u001b[0m\u001b[0m\n\u001b[0;32m      4\u001b[0m     \u001b[0mprint\u001b[0m\u001b[1;33m(\u001b[0m\u001b[0mresult\u001b[0m\u001b[1;33m)\u001b[0m\u001b[1;33m\u001b[0m\u001b[1;33m\u001b[0m\u001b[0m\n",
      "\u001b[1;32m~\\anaconda3\\lib\\site-packages\\pandas\\core\\indexing.py\u001b[0m in \u001b[0;36m__getitem__\u001b[1;34m(self, key)\u001b[0m\n\u001b[0;32m    893\u001b[0m \u001b[1;33m\u001b[0m\u001b[0m\n\u001b[0;32m    894\u001b[0m             \u001b[0mmaybe_callable\u001b[0m \u001b[1;33m=\u001b[0m \u001b[0mcom\u001b[0m\u001b[1;33m.\u001b[0m\u001b[0mapply_if_callable\u001b[0m\u001b[1;33m(\u001b[0m\u001b[0mkey\u001b[0m\u001b[1;33m,\u001b[0m \u001b[0mself\u001b[0m\u001b[1;33m.\u001b[0m\u001b[0mobj\u001b[0m\u001b[1;33m)\u001b[0m\u001b[1;33m\u001b[0m\u001b[1;33m\u001b[0m\u001b[0m\n\u001b[1;32m--> 895\u001b[1;33m             \u001b[1;32mreturn\u001b[0m \u001b[0mself\u001b[0m\u001b[1;33m.\u001b[0m\u001b[0m_getitem_axis\u001b[0m\u001b[1;33m(\u001b[0m\u001b[0mmaybe_callable\u001b[0m\u001b[1;33m,\u001b[0m \u001b[0maxis\u001b[0m\u001b[1;33m=\u001b[0m\u001b[0maxis\u001b[0m\u001b[1;33m)\u001b[0m\u001b[1;33m\u001b[0m\u001b[1;33m\u001b[0m\u001b[0m\n\u001b[0m\u001b[0;32m    896\u001b[0m \u001b[1;33m\u001b[0m\u001b[0m\n\u001b[0;32m    897\u001b[0m     \u001b[1;32mdef\u001b[0m \u001b[0m_is_scalar_access\u001b[0m\u001b[1;33m(\u001b[0m\u001b[0mself\u001b[0m\u001b[1;33m,\u001b[0m \u001b[0mkey\u001b[0m\u001b[1;33m:\u001b[0m \u001b[0mTuple\u001b[0m\u001b[1;33m)\u001b[0m\u001b[1;33m:\u001b[0m\u001b[1;33m\u001b[0m\u001b[1;33m\u001b[0m\u001b[0m\n",
      "\u001b[1;32m~\\anaconda3\\lib\\site-packages\\pandas\\core\\indexing.py\u001b[0m in \u001b[0;36m_getitem_axis\u001b[1;34m(self, key, axis)\u001b[0m\n\u001b[0;32m   1499\u001b[0m \u001b[1;33m\u001b[0m\u001b[0m\n\u001b[0;32m   1500\u001b[0m             \u001b[1;31m# validate the location\u001b[0m\u001b[1;33m\u001b[0m\u001b[1;33m\u001b[0m\u001b[1;33m\u001b[0m\u001b[0m\n\u001b[1;32m-> 1501\u001b[1;33m             \u001b[0mself\u001b[0m\u001b[1;33m.\u001b[0m\u001b[0m_validate_integer\u001b[0m\u001b[1;33m(\u001b[0m\u001b[0mkey\u001b[0m\u001b[1;33m,\u001b[0m \u001b[0maxis\u001b[0m\u001b[1;33m)\u001b[0m\u001b[1;33m\u001b[0m\u001b[1;33m\u001b[0m\u001b[0m\n\u001b[0m\u001b[0;32m   1502\u001b[0m \u001b[1;33m\u001b[0m\u001b[0m\n\u001b[0;32m   1503\u001b[0m             \u001b[1;32mreturn\u001b[0m \u001b[0mself\u001b[0m\u001b[1;33m.\u001b[0m\u001b[0mobj\u001b[0m\u001b[1;33m.\u001b[0m\u001b[0m_ixs\u001b[0m\u001b[1;33m(\u001b[0m\u001b[0mkey\u001b[0m\u001b[1;33m,\u001b[0m \u001b[0maxis\u001b[0m\u001b[1;33m=\u001b[0m\u001b[0maxis\u001b[0m\u001b[1;33m)\u001b[0m\u001b[1;33m\u001b[0m\u001b[1;33m\u001b[0m\u001b[0m\n",
      "\u001b[1;32m~\\anaconda3\\lib\\site-packages\\pandas\\core\\indexing.py\u001b[0m in \u001b[0;36m_validate_integer\u001b[1;34m(self, key, axis)\u001b[0m\n\u001b[0;32m   1442\u001b[0m         \u001b[0mlen_axis\u001b[0m \u001b[1;33m=\u001b[0m \u001b[0mlen\u001b[0m\u001b[1;33m(\u001b[0m\u001b[0mself\u001b[0m\u001b[1;33m.\u001b[0m\u001b[0mobj\u001b[0m\u001b[1;33m.\u001b[0m\u001b[0m_get_axis\u001b[0m\u001b[1;33m(\u001b[0m\u001b[0maxis\u001b[0m\u001b[1;33m)\u001b[0m\u001b[1;33m)\u001b[0m\u001b[1;33m\u001b[0m\u001b[1;33m\u001b[0m\u001b[0m\n\u001b[0;32m   1443\u001b[0m         \u001b[1;32mif\u001b[0m \u001b[0mkey\u001b[0m \u001b[1;33m>=\u001b[0m \u001b[0mlen_axis\u001b[0m \u001b[1;32mor\u001b[0m \u001b[0mkey\u001b[0m \u001b[1;33m<\u001b[0m \u001b[1;33m-\u001b[0m\u001b[0mlen_axis\u001b[0m\u001b[1;33m:\u001b[0m\u001b[1;33m\u001b[0m\u001b[1;33m\u001b[0m\u001b[0m\n\u001b[1;32m-> 1444\u001b[1;33m             \u001b[1;32mraise\u001b[0m \u001b[0mIndexError\u001b[0m\u001b[1;33m(\u001b[0m\u001b[1;34m\"single positional indexer is out-of-bounds\"\u001b[0m\u001b[1;33m)\u001b[0m\u001b[1;33m\u001b[0m\u001b[1;33m\u001b[0m\u001b[0m\n\u001b[0m\u001b[0;32m   1445\u001b[0m \u001b[1;33m\u001b[0m\u001b[0m\n\u001b[0;32m   1446\u001b[0m     \u001b[1;31m# -------------------------------------------------------------------\u001b[0m\u001b[1;33m\u001b[0m\u001b[1;33m\u001b[0m\u001b[1;33m\u001b[0m\u001b[0m\n",
      "\u001b[1;31mIndexError\u001b[0m: single positional indexer is out-of-bounds"
     ]
    }
   ],
   "source": [
    "for i in range(train_df.shape[0]):\n",
    "    result = knn(x_test.iloc[i], train_df, k=3)\n",
    "    print(x_test.iloc[i].values)\n",
    "    print(result)\n"
   ]
  },
  {
   "cell_type": "code",
   "execution_count": null,
   "id": "9db8c041",
   "metadata": {},
   "outputs": [],
   "source": []
  },
  {
   "cell_type": "code",
   "execution_count": null,
   "id": "e5292aa1",
   "metadata": {},
   "outputs": [],
   "source": []
  },
  {
   "cell_type": "code",
   "execution_count": null,
   "id": "f4bc0a36",
   "metadata": {},
   "outputs": [],
   "source": []
  }
 ],
 "metadata": {
  "kernelspec": {
   "display_name": "Python 3",
   "language": "python",
   "name": "python3"
  },
  "language_info": {
   "codemirror_mode": {
    "name": "ipython",
    "version": 3
   },
   "file_extension": ".py",
   "mimetype": "text/x-python",
   "name": "python",
   "nbconvert_exporter": "python",
   "pygments_lexer": "ipython3",
   "version": "3.8.8"
  }
 },
 "nbformat": 4,
 "nbformat_minor": 5
}
