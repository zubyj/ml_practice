{
 "cells": [
  {
   "cell_type": "code",
   "execution_count": 113,
   "id": "7b1b2f22",
   "metadata": {},
   "outputs": [],
   "source": [
    "import pandas as pd\n",
    "import numpy as np\n",
    "from sklearn.model_selection import train_test_split"
   ]
  },
  {
   "cell_type": "code",
   "execution_count": 114,
   "id": "db22aa56",
   "metadata": {},
   "outputs": [],
   "source": [
    "np.random.seed(42)"
   ]
  },
  {
   "cell_type": "code",
   "execution_count": 115,
   "id": "18010f53",
   "metadata": {},
   "outputs": [],
   "source": [
    "#Generate n synthetic samples (not a real dataset, randomly generated)\n",
    "n=100\n",
    "\n",
    "#Class 0\n",
    "X1 = np.random.normal(loc=-2.0, scale=2, size=int(n/2))\n",
    "Y1 = np.random.normal(loc=0, scale=1, size=int(n/2))\n",
    "\n",
    "#Class 1\n",
    "X2 = np.random.normal(loc=2.0, scale=2.0, size=int(n/2))\n",
    "Y2 = np.random.normal(loc=0, scale=1.0, size=int(n/2))"
   ]
  },
  {
   "cell_type": "code",
   "execution_count": 116,
   "id": "4455c48c",
   "metadata": {},
   "outputs": [],
   "source": [
    "# Create dataset from dimensions as columns, and output label (0 or 1)\n",
    "# Every column is a dimension/feature from dataset & class label is last column\n",
    "\n",
    "ds1 = np.empty([n, 3])\n",
    "size = int(n/2)\n",
    "for i in range(size):\n",
    "        ds1[i] = [X1[i], Y1[i], 0]\n",
    "        ds1[i+size] = [X2[i], Y2[i], 1]"
   ]
  },
  {
   "cell_type": "code",
   "execution_count": 117,
   "id": "62d5617d",
   "metadata": {},
   "outputs": [
    {
     "name": "stdout",
     "output_type": "stream",
     "text": [
      "       Dim 1     Dim 2  Class labels\n",
      "0  -1.006572  0.324084           0.0\n",
      "1  -2.276529 -0.385082           0.0\n",
      "2  -0.704623 -0.676922           0.0\n",
      "3   1.046060  0.611676           0.0\n",
      "4  -2.468307  1.031000           0.0\n",
      "..       ...       ...           ...\n",
      "95  3.563646  0.385317           1.0\n",
      "96 -0.473901 -0.883857           1.0\n",
      "97 -0.640913  0.153725           1.0\n",
      "98  3.043883  0.058209           1.0\n",
      "99  2.593969 -1.142970           1.0\n",
      "\n",
      "[100 rows x 3 columns]\n"
     ]
    }
   ],
   "source": [
    "df = pd.DataFrame({'Dim 1':ds1[:, 0], 'Dim 2':ds1[:, 1], 'Class labels':ds1[:, -1]})\n",
    "print(df)"
   ]
  },
  {
   "cell_type": "code",
   "execution_count": 118,
   "id": "b937b339",
   "metadata": {},
   "outputs": [],
   "source": [
    "x_train, x_test, y_train, y_test = train_test_split(df.iloc[:, :-1], df.iloc[:, -1], test_size=0.2, random_state=0)"
   ]
  },
  {
   "cell_type": "code",
   "execution_count": 121,
   "id": "72ae17e5",
   "metadata": {},
   "outputs": [],
   "source": [
    "def knn(newObservation, referenceData, k=3):\n",
    "    data = referenceData.iloc[:, :-1]\n",
    "    labels = referenceData.iloc[:, -1]\n",
    "    \n",
    "    distance = np.array((None, None) * int(n/2))\n",
    "        \n",
    "    size = data.shape[0]\n",
    "    for i in range(size):\n",
    "        x_diff = np.square(data.iloc[i, 0] - newObservation[0])\n",
    "        y_diff = np.square(data.iloc[i, 1] - newObservation[1])\n",
    "        distance[i] = (np.sqrt(x_diff + y_diff), labels[i])\n",
    "    \n",
    "    distance = np.sort(distance, axis=0)\n",
    "    \n",
    "    c0_count = 0\n",
    "    c1_count = 0\n",
    "    \n",
    "    for i in range(0, k):\n",
    "        if distance[i][1] == 0:\n",
    "            c0_count+=1\n",
    "        elif distance[i][1] == 1:\n",
    "            c1_count+=1\n",
    "    \n",
    "    if c0_count > c1_count:\n",
    "        return 'Class 0'\n",
    "    return 'Class 1'"
   ]
  },
  {
   "cell_type": "code",
   "execution_count": 122,
   "id": "29891519",
   "metadata": {},
   "outputs": [
    {
     "data": {
      "text/plain": [
       "'Class 0'"
      ]
     },
     "execution_count": 122,
     "metadata": {},
     "output_type": "execute_result"
    }
   ],
   "source": [
    "knn(x_test.iloc[0], df, k=50)"
   ]
  },
  {
   "cell_type": "code",
   "execution_count": 130,
   "id": "42a1c17b",
   "metadata": {},
   "outputs": [
    {
     "name": "stdout",
     "output_type": "stream",
     "text": [
      "Data point : [-4.30198715  0.08704707]\n",
      "Class 0\n",
      "Data point : [0.43349342 0.47323762]\n",
      "Class 1\n",
      "Data point : [-0.70462292 -0.676922  ]\n",
      "Class 1\n",
      "Data point : [ 2.80810171 -0.71435142]\n",
      "Class 1\n",
      "Data point : [6.38091125 0.82718325]\n",
      "Class 1\n",
      "Data point : [ 2.36926772 -1.24573878]\n",
      "Class 1\n",
      "Data point : [-4.02566224 -0.07201012]\n",
      "Class 0\n",
      "Data point : [-0.80370213  0.34115197]\n",
      "Class 0\n",
      "Data point : [1.67742858 0.29307247]\n",
      "Class 1\n",
      "Data point : [3.56364574 0.38531738]\n",
      "Class 1\n",
      "Data point : [0.39544546 0.2322537 ]\n",
      "Class 1\n",
      "Data point : [-1.21496647  0.21409374]\n",
      "Class 0\n",
      "Data point : [ 2.19930273 -0.26465683]\n",
      "Class 1\n",
      "Data point : [-5.82656049 -1.19620662]\n",
      "Class 0\n",
      "Data point : [-0.46513054 -0.30921238]\n",
      "Class 1\n",
      "Data point : [-3.20341322 -0.21967189]\n",
      "Class 0\n",
      "Data point : [-1.86494359 -0.03582604]\n",
      "Class 0\n",
      "Data point : [-3.08876545 -2.6197451 ]\n",
      "Class 0\n",
      "Data point : [-4.11542186 -0.51827022]\n",
      "Class 0\n",
      "Data point : [-2.93894877  0.33126343]\n",
      "Class 0\n"
     ]
    }
   ],
   "source": [
    "for i in range(20):\n",
    "    result = knn(x_test.iloc[i], df, k=20)\n",
    "    print('Data point : ' + str(x_test.iloc[i].values))\n",
    "    print(result)"
   ]
  },
  {
   "cell_type": "code",
   "execution_count": 144,
   "id": "4331a322",
   "metadata": {},
   "outputs": [
    {
     "name": "stdout",
     "output_type": "stream",
     "text": [
      "20\n",
      "[-4.30198715  0.08704707]\n",
      "0.0\n",
      "[0.43349342 0.47323762]\n",
      "1.0\n",
      "[-0.70462292 -0.676922  ]\n",
      "0.0\n",
      "[ 2.80810171 -0.71435142]\n",
      "1.0\n",
      "[6.38091125 0.82718325]\n",
      "1.0\n",
      "[ 2.36926772 -1.24573878]\n",
      "1.0\n",
      "[-4.02566224 -0.07201012]\n",
      "0.0\n",
      "[-0.80370213  0.34115197]\n",
      "1.0\n",
      "[1.67742858 0.29307247]\n",
      "1.0\n",
      "[3.56364574 0.38531738]\n",
      "1.0\n",
      "[0.39544546 0.2322537 ]\n",
      "1.0\n",
      "[-1.21496647  0.21409374]\n",
      "1.0\n",
      "[ 2.19930273 -0.26465683]\n",
      "1.0\n",
      "[-5.82656049 -1.19620662]\n",
      "0.0\n",
      "[-0.46513054 -0.30921238]\n",
      "0.0\n",
      "[-3.20341322 -0.21967189]\n",
      "0.0\n",
      "[-1.86494359 -0.03582604]\n",
      "0.0\n",
      "[-3.08876545 -2.6197451 ]\n",
      "0.0\n",
      "[-4.11542186 -0.51827022]\n",
      "0.0\n",
      "[-2.93894877  0.33126343]\n",
      "0.0\n"
     ]
    }
   ],
   "source": [
    "print(x_test.shape[0])\n",
    "\n",
    "for i in range(x_test.shape[0]):\n",
    "    print(x_test.iloc[i].values)\n",
    "    print(y_test.iloc[i])"
   ]
  },
  {
   "cell_type": "code",
   "execution_count": null,
   "id": "d281d0b6",
   "metadata": {},
   "outputs": [],
   "source": []
  }
 ],
 "metadata": {
  "kernelspec": {
   "display_name": "Python 3",
   "language": "python",
   "name": "python3"
  },
  "language_info": {
   "codemirror_mode": {
    "name": "ipython",
    "version": 3
   },
   "file_extension": ".py",
   "mimetype": "text/x-python",
   "name": "python",
   "nbconvert_exporter": "python",
   "pygments_lexer": "ipython3",
   "version": "3.8.8"
  }
 },
 "nbformat": 4,
 "nbformat_minor": 5
}
