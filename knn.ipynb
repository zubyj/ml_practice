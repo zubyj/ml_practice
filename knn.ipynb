{
 "cells": [
  {
   "cell_type": "code",
   "execution_count": 1258,
   "id": "7b1b2f22",
   "metadata": {},
   "outputs": [],
   "source": [
    "import pandas as pd\n",
    "import numpy as np\n",
    "from sklearn.model_selection import train_test_split\n",
    "import matplotlib.pyplot as plt"
   ]
  },
  {
   "cell_type": "code",
   "execution_count": 1259,
   "id": "db22aa56",
   "metadata": {},
   "outputs": [],
   "source": [
    "np.random.seed(42)"
   ]
  },
  {
   "cell_type": "code",
   "execution_count": 1273,
   "id": "18010f53",
   "metadata": {},
   "outputs": [],
   "source": [
    "#Generate n synthetic samples (not a real dataset, randomly generated)\n",
    "\n",
    "n=100 #data pts\n",
    "\n",
    "#Class 0\n",
    "X1 = np.random.normal(loc=-2.0, scale=2, size=int(n/2))\n",
    "Y1 = np.random.normal(loc=0, scale=1, size=int(n/2))\n",
    "#Class 1\n",
    "X2 = np.random.normal(loc=2.0, scale=2.0, size=int(n/2))\n",
    "Y2 = np.random.normal(loc=0, scale=1.0, size=int(n/2))"
   ]
  },
  {
   "cell_type": "code",
   "execution_count": 1261,
   "id": "4455c48c",
   "metadata": {},
   "outputs": [],
   "source": [
    "# Adds class labels to dataset\n",
    "ds = np.empty([n, 3])\n",
    "size = int(n/2)\n",
    "for i in range(size):\n",
    "        ds[i] = [X1[i], Y1[i], 0]\n",
    "        ds[i+size] = [X2[i], Y2[i], 1]"
   ]
  },
  {
   "cell_type": "code",
   "execution_count": 1262,
   "id": "62d5617d",
   "metadata": {},
   "outputs": [],
   "source": [
    "# Create dataframe and separate training set\n",
    "df = pd.DataFrame({'Dim 1':ds[:, 0], 'Dim 2':ds[:, 1], 'Class label':ds[:, -1]})\n",
    "x_train, x_test, y_train, y_test = train_test_split(df.iloc[:, :-1], df.iloc[:, -1], test_size=0.2, random_state=0)\n",
    "train_df = pd.DataFrame({'X1':x_train.iloc[:,0], 'X2':x_train.iloc[:,1], 'Y':y_train}, columns=['X1', 'X2', 'Y'])"
   ]
  },
  {
   "cell_type": "code",
   "execution_count": 1263,
   "id": "72ae17e5",
   "metadata": {},
   "outputs": [],
   "source": [
    "def knn(newObservation, referenceData, k=3):\n",
    "    data = referenceData.iloc[:, :-1]\n",
    "    labels = referenceData.iloc[:, -1]   \n",
    "    \n",
    "    # Gets distances between new data pt and pts in dataset\n",
    "    rows = data.shape[0]\n",
    "    cols = data.columns.size\n",
    "    distances = np.empty((rows, cols))\n",
    "    \n",
    "    for i in range(rows):\n",
    "        sum = 0\n",
    "        for j in range(cols):\n",
    "            sum += np.square(data.iloc[i, j] - newObservation[j])\n",
    "        distance = np.sqrt(sum)\n",
    "        \n",
    "        # 1st column is distance & 2nd column is class label\n",
    "        distances[i, 0] = distance\n",
    "        distances[i, 1] = labels.iloc[i]\n",
    "        \n",
    "    # Sorts distances by value \n",
    "    distances = distances[np.argsort(distances[:, 0])]\n",
    "    \n",
    "    # Gets k closest neighbors and finds number of occurances\n",
    "    num_classes = max(distances[:, 1]) + 1\n",
    "    classes = [0] * int(num_classes)\n",
    "    for i in range(k):\n",
    "        class_num = int(distances[i, 1])\n",
    "        classes[class_num] = int(classes[class_num])+1\n",
    "        \n",
    "    # Returns class with most occurances\n",
    "    class_count = max(classes)\n",
    "    class_index = classes.index(class_count)\n",
    "    return class_index"
   ]
  },
  {
   "cell_type": "code",
   "execution_count": 1264,
   "id": "af5c0f25",
   "metadata": {
    "scrolled": true
   },
   "outputs": [
    {
     "name": "stdout",
     "output_type": "stream",
     "text": [
      "18 correct predictions out of 20\n"
     ]
    }
   ],
   "source": [
    "# Test function against test set \n",
    "size = x_test.shape[0]\n",
    "correct_counter = 0\n",
    "\n",
    "for i in range(size):\n",
    "    result = knn(x_test.iloc[i], train_df, k=3)\n",
    "    if result == int(y_test.iloc[i]):\n",
    "        correct_counter+=1\n",
    "        \n",
    "print(str(correct_counter) + ' correct predictions out of ' + str(size))  "
   ]
  },
  {
   "cell_type": "code",
   "execution_count": 1265,
   "id": "2fd1b955",
   "metadata": {},
   "outputs": [
    {
     "data": {
      "text/plain": [
       "Text(0.5, 1.0, 'Actual labels')"
      ]
     },
     "execution_count": 1265,
     "metadata": {},
     "output_type": "execute_result"
    },
    {
     "data": {
      "image/png": "[encoded data removed]",
      "text/plain": [
       "<Figure size 432x288 with 1 Axes>"
      ]
     },
     "metadata": {
      "needs_background": "light"
     },
     "output_type": "display_data"
    }
   ],
   "source": [
    "plt.subplot(1, 2, 1)\n",
    "plt.scatter(x_train.iloc[:,0], x_train.iloc[:, 1], s=25, c=y_train, marker='.')\n",
    "plt.scatter(x_test.iloc[:,0],x_test.iloc[:,1], s=50, c=y_test, marker=\"v\")\n",
    "plt.title('Actual labels')"
   ]
  },
  {
   "cell_type": "code",
   "execution_count": 1266,
   "id": "a06ef598",
   "metadata": {},
   "outputs": [
    {
     "data": {
      "text/plain": [
       "Text(0.5, 1.0, 'Predicted labels')"
      ]
     },
     "execution_count": 1266,
     "metadata": {},
     "output_type": "execute_result"
    },
    {
     "data": {
      "image/png": "[encoded data removed]",
      "text/plain": [
       "<Figure size 432x288 with 1 Axes>"
      ]
     },
     "metadata": {
      "needs_background": "light"
     },
     "output_type": "display_data"
    }
   ],
   "source": [
    "plt.subplot(1, 2, 2)\n",
    "plt.scatter(x_train.iloc[:,0], x_train.iloc[:, 1], s=25, c=y_train, marker='.')\n",
    "plt.scatter(x_test.iloc[:,0],x_test.iloc[:,1], s=50, c=results, marker=\"v\")\n",
    "plt.title('Predicted labels')\n"
   ]
  },
  {
   "cell_type": "code",
   "execution_count": 1267,
   "id": "87def1d2",
   "metadata": {},
   "outputs": [],
   "source": [
    "#Generate n synthetic samples (not a real dataset, randomly generated)\n",
    "\n",
    "n=1000 #data pts\n",
    "\n",
    "#Class 0\n",
    "X1 = np.random.normal(loc=0, scale=3, size=int(n/4))\n",
    "Y1 = np.random.normal(loc=-3, scale=1, size=int(n/4))\n",
    "Z1 = np.random.normal(loc=-1, scale=1, size=(int(n/4)))\n",
    "#Class 1\n",
    "X2 = np.random.normal(loc=0, scale=3, size=int(n/4))\n",
    "Y2 = np.random.normal(loc=1, scale=2, size=int(n/4))\n",
    "Z2 = np.random.normal(loc=1, scale=1, size=(int(n/4)))\n",
    "#Class 2\n",
    "X3 = np.random.normal(loc=0, scale=3, size=int(n/4))\n",
    "Y3 = np.random.normal(loc=3, scale=1, size=int(n/4))\n",
    "Z3 = np.random.normal(loc=4, scale=1, size=(int(n/4)))\n",
    "#Class 3\n",
    "X4 = np.random.normal(loc=0, scale=3, size=int(n/4))\n",
    "Y4 = np.random.normal(loc=5, scale=3, size=int(n/4))\n",
    "Z4 = np.random.normal(loc=-3, scale=1, size=(int(n/4)))\n"
   ]
  },
  {
   "cell_type": "code",
   "execution_count": 1268,
   "id": "284e9d84",
   "metadata": {},
   "outputs": [],
   "source": [
    "# Adds class labels to dataset\n",
    "ds2 = np.empty([n, 4])\n",
    "size = int(n/4)\n",
    "for i in range(size):\n",
    "        ds2[i] = [X1[i], Y1[i], Z1[i], 0]\n",
    "        ds2[i+size] = [X2[i], Y2[i], Z2[i], 1]\n",
    "        ds2[i+int(size*2)] = [X3[i], Y3[i], Z3[i], 2]\n",
    "        ds2[i+int(size*3)] = [X4[i], Y4[i], Z4[i], 3]\n",
    "\n"
   ]
  },
  {
   "cell_type": "code",
   "execution_count": 1269,
   "id": "279ecd86",
   "metadata": {},
   "outputs": [],
   "source": [
    "# Create dataframe and separate training set\n",
    "df2 = pd.DataFrame({'Dim1':ds2[:, 0], 'Dim2':ds2[:, 1], 'Dim3':ds2[:, 2], 'Class':ds2[:, 3]})\n",
    "x_train, x_test, y_train, y_test = train_test_split(df2.iloc[:, :-1], df2.iloc[:, -1], test_size=.2, random_state=0)\n",
    "train_df2 = pd.DataFrame({'X1':x_train.iloc[:,0], 'X2':x_train.iloc[:,1], 'X3':x_train.iloc[:,2], 'Y':y_train}, columns=['X1', 'X2', 'X3', 'Y'])"
   ]
  },
  {
   "cell_type": "code",
   "execution_count": 1272,
   "id": "2a4f670d",
   "metadata": {},
   "outputs": [
    {
     "name": "stdout",
     "output_type": "stream",
     "text": [
      "183 correct predictions out of 200\n"
     ]
    }
   ],
   "source": [
    "size = x_test.shape[0]\n",
    "correct_counter = 0\n",
    "\n",
    "for i in range(size):\n",
    "    result = knn(x_test.iloc[i], train_df2, k=3)\n",
    "    if result == int(y_test.iloc[i]):\n",
    "        correct_counter+=1\n",
    "\n",
    "print(str(correct_counter) + ' correct predictions out of ' + str(size))"
   ]
  },
  {
   "cell_type": "code",
   "execution_count": null,
   "id": "d39991ee",
   "metadata": {},
   "outputs": [],
   "source": []
  },
  {
   "cell_type": "code",
   "execution_count": null,
   "id": "83ae189b",
   "metadata": {},
   "outputs": [],
   "source": []
  }
 ],
 "metadata": {
  "kernelspec": {
   "display_name": "Python 3",
   "language": "python",
   "name": "python3"
  },
  "language_info": {
   "codemirror_mode": {
    "name": "ipython",
    "version": 3
   },
   "file_extension": ".py",
   "mimetype": "text/x-python",
   "name": "python",
   "nbconvert_exporter": "python",
   "pygments_lexer": "ipython3",
   "version": "3.8.8"
  }
 },
 "nbformat": 4,
 "nbformat_minor": 5
}
