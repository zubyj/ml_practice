{
 "cells": [
  {
   "cell_type": "markdown",
   "id": "1161259c",
   "metadata": {},
   "source": [
    "## Stochastic Gradient descent\n",
    "\n",
    "### Objective\n",
    "\n",
    "Find the point where loss function is minimum\n",
    "\n",
    "### How it works\n",
    "1. Choose starting point (x) & step size (lr)\n",
    "2. For each sample, compute the loss.\n",
    "3. <b>Descend</b> down the function (opposite the gradient) using (lr * slope)\n",
    "4. Continue until finished\n",
    "\n",
    "### Outcome\n",
    "Trains the model, sets weights for model parameters(features) that minimizes loss.\n"
   ]
  },
  {
   "cell_type": "code",
   "execution_count": 56,
   "id": "4f361bb2",
   "metadata": {},
   "outputs": [],
   "source": [
    "import numpy as np\n",
    "from IPython.display import display, Math, Latex"
   ]
  },
  {
   "cell_type": "code",
   "execution_count": 57,
   "id": "0889b9f7",
   "metadata": {},
   "outputs": [],
   "source": [
    "np.random.seed(42)"
   ]
  },
  {
   "cell_type": "code",
   "execution_count": 58,
   "id": "4aa1b1c5",
   "metadata": {},
   "outputs": [
    {
     "data": {
      "text/latex": [
       "$\\displaystyle  f(x) = 5x^3 - 20x + 2$"
      ],
      "text/plain": [
       "<IPython.core.display.Math object>"
      ]
     },
     "metadata": {},
     "output_type": "display_data"
    }
   ],
   "source": [
    "display(Math(r' f(x) = 5x^3 - 20x + 2'))"
   ]
  },
  {
   "cell_type": "code",
   "execution_count": 59,
   "id": "5be499ff",
   "metadata": {},
   "outputs": [],
   "source": [
    "def f(x):\n",
    "    return 15*(x**2) - 20"
   ]
  },
  {
   "cell_type": "code",
   "execution_count": 60,
   "id": "4611d8ec",
   "metadata": {},
   "outputs": [],
   "source": [
    "def gradient_descent(x, lr, iterations):\n",
    "    for i in range(iterations):\n",
    "        x = x - f(x) * lr \n",
    "    return x"
   ]
  },
  {
   "cell_type": "code",
   "execution_count": 61,
   "id": "e698b9d2",
   "metadata": {},
   "outputs": [
    {
     "name": "stdout",
     "output_type": "stream",
     "text": [
      "Final solution : 1.1547005383792484\n"
     ]
    }
   ],
   "source": [
    "init_solution = np.random.randint(-5, 5)\n",
    "solution = gradient_descent(init_solution, .001, 1000)\n",
    "\n",
    "print('Final solution : ' + str(solution))\n"
   ]
  },
  {
   "cell_type": "code",
   "execution_count": null,
   "id": "52a50fcc",
   "metadata": {},
   "outputs": [],
   "source": []
  },
  {
   "cell_type": "code",
   "execution_count": null,
   "id": "ccc37b37",
   "metadata": {},
   "outputs": [],
   "source": []
  }
 ],
 "metadata": {
  "kernelspec": {
   "display_name": "Python 3",
   "language": "python",
   "name": "python3"
  },
  "language_info": {
   "codemirror_mode": {
    "name": "ipython",
    "version": 3
   },
   "file_extension": ".py",
   "mimetype": "text/x-python",
   "name": "python",
   "nbconvert_exporter": "python",
   "pygments_lexer": "ipython3",
   "version": "3.8.8"
  }
 },
 "nbformat": 4,
 "nbformat_minor": 5
}
